{
 "cells": [
  {
   "cell_type": "code",
   "execution_count": 1,
   "id": "8fecb680",
   "metadata": {},
   "outputs": [],
   "source": [
    "import pandas as pd\n",
    "import numpy as np\n",
    "import sklearn\n",
    "from sklearn.metrics import f1_score, accuracy_score, precision_score, recall_score\n",
    "from sklearn.linear_model import LogisticRegression\n",
    "import random\n",
    "\n",
    "np.random.seed(1984)"
   ]
  },
  {
   "cell_type": "code",
   "execution_count": 2,
   "id": "0c51f967",
   "metadata": {},
   "outputs": [],
   "source": [
    "data_train = pd.read_csv('./samples/train.csv',dtype=object)\n",
    "data_test = pd.read_csv('./samples/test.csv',dtype=object)\n",
    "\n",
    "data_train['ST_YEAR'] = data_train['ST_YEAR'].astype(int)\n",
    "data_test['ST_YEAR'] = data_test['ST_YEAR'].astype(int)\n",
    "\n",
    "data_train['SEMESTER'] = data_train['SEMESTER'].astype(int)\n",
    "data_test['SEMESTER'] = data_test['SEMESTER'].astype(int)\n",
    "\n",
    "data_train['DEBT'] = data_train['DEBT'].astype(int)"
   ]
  },
  {
   "cell_type": "code",
   "execution_count": 3,
   "id": "2f069c3b-07d6-4a22-91c0-8049db33a676",
   "metadata": {},
   "outputs": [
    {
     "data": {
      "text/html": [
       "<div>\n",
       "<style scoped>\n",
       "    .dataframe tbody tr th:only-of-type {\n",
       "        vertical-align: middle;\n",
       "    }\n",
       "\n",
       "    .dataframe tbody tr th {\n",
       "        vertical-align: top;\n",
       "    }\n",
       "\n",
       "    .dataframe thead th {\n",
       "        text-align: right;\n",
       "    }\n",
       "</style>\n",
       "<table border=\"1\" class=\"dataframe\">\n",
       "  <thead>\n",
       "    <tr style=\"text-align: right;\">\n",
       "      <th></th>\n",
       "      <th>ISU</th>\n",
       "      <th>ST_YEAR</th>\n",
       "      <th>SEMESTER</th>\n",
       "      <th>DISC_ID</th>\n",
       "      <th>TYPE_NAME</th>\n",
       "      <th>DEBT</th>\n",
       "    </tr>\n",
       "  </thead>\n",
       "  <tbody>\n",
       "    <tr>\n",
       "      <th>0</th>\n",
       "      <td>17623928044460629977</td>\n",
       "      <td>2020</td>\n",
       "      <td>1</td>\n",
       "      <td>10502311854018326223</td>\n",
       "      <td>Зачет</td>\n",
       "      <td>0</td>\n",
       "    </tr>\n",
       "    <tr>\n",
       "      <th>1</th>\n",
       "      <td>17623928044460629977</td>\n",
       "      <td>2020</td>\n",
       "      <td>1</td>\n",
       "      <td>1601392918367593206</td>\n",
       "      <td>Зачет</td>\n",
       "      <td>0</td>\n",
       "    </tr>\n",
       "    <tr>\n",
       "      <th>2</th>\n",
       "      <td>17623928044460629977</td>\n",
       "      <td>2020</td>\n",
       "      <td>1</td>\n",
       "      <td>9559803959325174929</td>\n",
       "      <td>Зачет</td>\n",
       "      <td>0</td>\n",
       "    </tr>\n",
       "    <tr>\n",
       "      <th>3</th>\n",
       "      <td>17623928044460629977</td>\n",
       "      <td>2020</td>\n",
       "      <td>1</td>\n",
       "      <td>8955667882044263414</td>\n",
       "      <td>Зачет</td>\n",
       "      <td>0</td>\n",
       "    </tr>\n",
       "    <tr>\n",
       "      <th>4</th>\n",
       "      <td>17623928044460629977</td>\n",
       "      <td>2020</td>\n",
       "      <td>1</td>\n",
       "      <td>17741967398854095262</td>\n",
       "      <td>Экзамен</td>\n",
       "      <td>0</td>\n",
       "    </tr>\n",
       "  </tbody>\n",
       "</table>\n",
       "</div>"
      ],
      "text/plain": [
       "                    ISU  ST_YEAR  SEMESTER               DISC_ID TYPE_NAME  \\\n",
       "0  17623928044460629977     2020         1  10502311854018326223     Зачет   \n",
       "1  17623928044460629977     2020         1   1601392918367593206     Зачет   \n",
       "2  17623928044460629977     2020         1   9559803959325174929     Зачет   \n",
       "3  17623928044460629977     2020         1   8955667882044263414     Зачет   \n",
       "4  17623928044460629977     2020         1  17741967398854095262   Экзамен   \n",
       "\n",
       "   DEBT  \n",
       "0     0  \n",
       "1     0  \n",
       "2     0  \n",
       "3     0  \n",
       "4     0  "
      ]
     },
     "execution_count": 3,
     "metadata": {},
     "output_type": "execute_result"
    }
   ],
   "source": [
    "data_train.head()\n"
   ]
  },
  {
   "cell_type": "code",
   "execution_count": 4,
   "id": "0e256769",
   "metadata": {},
   "outputs": [],
   "source": [
    "all_st_df = []\n",
    "\n",
    "for st_year in data_train['ST_YEAR'].unique():\n",
    "    for semester in data_train['SEMESTER'].unique():\n",
    "        data_temp = (\n",
    "            data_train\n",
    "            .drop('DISC_ID', axis=1)\n",
    "            [(data_train['ST_YEAR'] < st_year) & (data_train['SEMESTER'] < semester)]\n",
    "            .groupby(['ISU', 'TYPE_NAME'], as_index=False)\n",
    "            .agg(DEBT_MEAN=('DEBT', 'mean'), DEBT_SUM=('DEBT', 'sum'), DEBT_COUNT=('DEBT', 'count')\n",
    "            )\n",
    "        )\n",
    "        data_temp['ST_YEAR'] = st_year\n",
    "        data_temp['SEMESTER'] = semester\n",
    "        \n",
    "        all_st_df.append(data_temp)"
   ]
  },
  {
   "cell_type": "code",
   "execution_count": 5,
   "id": "2d97bcf9",
   "metadata": {},
   "outputs": [],
   "source": [
    "all_st_df = pd.concat(all_st_df)"
   ]
  },
  {
   "cell_type": "code",
   "execution_count": 6,
   "id": "af72f62a",
   "metadata": {},
   "outputs": [],
   "source": [
    "all_disc_df = []\n",
    "\n",
    "for st_year in data_train['ST_YEAR'].unique():\n",
    "    for semester in data_train['SEMESTER'].unique():\n",
    "        data_temp = (\n",
    "            data_train\n",
    "            .drop('ISU', axis=1)\n",
    "            [(data_train['ST_YEAR'] < st_year) & (data_train['SEMESTER'] < semester)]\n",
    "            .groupby(['DISC_ID', 'TYPE_NAME'], as_index=False)\n",
    "            .agg(DISC_DEBT_MEAN=('DEBT', 'mean'), DISC_DEBT_SUM=('DEBT', 'sum'), DISC_DEBT_COUNT=('DEBT', 'count')\n",
    "            )\n",
    "        )\n",
    "        data_temp['ST_YEAR'] = st_year\n",
    "        data_temp['SEMESTER'] = semester\n",
    "        \n",
    "        all_disc_df.append(data_temp)"
   ]
  },
  {
   "cell_type": "code",
   "execution_count": 7,
   "id": "069a2fbc",
   "metadata": {},
   "outputs": [],
   "source": [
    "all_disc_df = pd.concat(all_disc_df)"
   ]
  },
  {
   "cell_type": "code",
   "execution_count": 8,
   "id": "4cce95ad",
   "metadata": {},
   "outputs": [],
   "source": [
    "data_train = data_train.merge(all_st_df, on=['ISU', 'ST_YEAR', 'SEMESTER', 'TYPE_NAME'], how='left')"
   ]
  },
  {
   "cell_type": "code",
   "execution_count": 9,
   "id": "1bd3017b",
   "metadata": {},
   "outputs": [],
   "source": [
    "data_train = data_train.merge(all_disc_df, on=['DISC_ID', 'ST_YEAR', 'SEMESTER', 'TYPE_NAME'], how='left')"
   ]
  },
  {
   "cell_type": "code",
   "execution_count": 10,
   "id": "befa3a0d",
   "metadata": {},
   "outputs": [],
   "source": [
    "data_train = data_train.fillna(0)"
   ]
  },
  {
   "cell_type": "code",
   "execution_count": 11,
   "id": "6e360161",
   "metadata": {},
   "outputs": [
    {
     "data": {
      "text/plain": [
       "2020    87558\n",
       "2019    60631\n",
       "2018    30710\n",
       "Name: ST_YEAR, dtype: int64"
      ]
     },
     "execution_count": 11,
     "metadata": {},
     "output_type": "execute_result"
    }
   ],
   "source": [
    "data_train['ST_YEAR'].value_counts()"
   ]
  },
  {
   "cell_type": "code",
   "execution_count": 12,
   "id": "f0a0ca22",
   "metadata": {},
   "outputs": [],
   "source": [
    "data_train = data_train.join(pd.get_dummies(data_train['TYPE_NAME'], prefix='TYPE_NAME'))"
   ]
  },
  {
   "cell_type": "code",
   "execution_count": 13,
   "id": "e6f9d38e",
   "metadata": {},
   "outputs": [],
   "source": [
    "cols_to_drop = ['ISU', 'DISC_ID', 'TYPE_NAME']"
   ]
  },
  {
   "cell_type": "code",
   "execution_count": 14,
   "id": "cb6f601f",
   "metadata": {},
   "outputs": [],
   "source": [
    "train = data_train[data_train['ST_YEAR'].isin([2018, 2019])].drop(cols_to_drop, axis=1)\n",
    "test = data_train[data_train['ST_YEAR'] == 2020].drop(cols_to_drop, axis=1)"
   ]
  },
  {
   "cell_type": "code",
   "execution_count": 15,
   "id": "2dff8346",
   "metadata": {},
   "outputs": [],
   "source": [
    "X_train = train.drop(['DEBT'], axis=1)\n",
    "y_train = train['DEBT']\n",
    "\n",
    "X_test = test.drop(['DEBT'], axis=1)\n",
    "y_test = test['DEBT']"
   ]
  },
  {
   "cell_type": "code",
   "execution_count": 29,
   "id": "78b2ce42",
   "metadata": {},
   "outputs": [],
   "source": [
    "model = LogisticRegression(class_weight='balanced',C=100,max_iter=2000,n_jobs=-1,penalty='l2')"
   ]
  },
  {
   "cell_type": "code",
   "execution_count": 30,
   "id": "edf48279",
   "metadata": {},
   "outputs": [],
   "source": [
    "model.fit(X_train, y_train)\n",
    "preds = model.predict(X_test)"
   ]
  },
  {
   "cell_type": "code",
   "execution_count": 31,
   "id": "7e714361",
   "metadata": {},
   "outputs": [
    {
     "name": "stdout",
     "output_type": "stream",
     "text": [
      "f1 score 0.12939454786781474\n",
      "accuracy score 0.7078393750428288\n",
      "precision score 0.07407840386563791\n",
      "recall score 0.5108841709217952\n"
     ]
    }
   ],
   "source": [
    "print('f1 score', f1_score(y_test, preds))\n",
    "print('accuracy score', accuracy_score(y_test, preds))\n",
    "print('precision score', precision_score(y_test, preds))\n",
    "print('recall score', recall_score(y_test, preds))"
   ]
  },
  {
   "cell_type": "code",
   "execution_count": 19,
   "id": "1edba5ed",
   "metadata": {},
   "outputs": [
    {
     "name": "stdout",
     "output_type": "stream",
     "text": [
      "f1 score 0.1119658742890477\n",
      "accuracy score 0.4666798042500082\n",
      "precision score 0.06129006506206842\n",
      "recall score 0.6465263157894737\n"
     ]
    }
   ],
   "source": [
    "preds = model.predict(X_train)\n",
    "print('f1 score', f1_score(y_train, preds))\n",
    "print('accuracy score', accuracy_score(y_train, preds))\n",
    "print('precision score', precision_score(y_train, preds))\n",
    "print('recall score', recall_score(y_train, preds))"
   ]
  },
  {
   "cell_type": "code",
   "execution_count": 58,
   "id": "771cd461",
   "metadata": {},
   "outputs": [],
   "source": [
    "# fit on all data\n",
    "X = data_train.drop(cols_to_drop + ['DEBT'], axis=1)\n",
    "y = data_train['DEBT']\n",
    "\n",
    "clf.fit(X, y);"
   ]
  },
  {
   "cell_type": "code",
   "execution_count": 60,
   "id": "373718a8",
   "metadata": {},
   "outputs": [],
   "source": [
    "# collect data for test"
   ]
  },
  {
   "cell_type": "code",
   "execution_count": 61,
   "id": "d59833da",
   "metadata": {},
   "outputs": [],
   "source": [
    "all_st_df_test = []\n",
    "\n",
    "for st_year in data_train['ST_YEAR'].unique():\n",
    "    for semester in data_train['SEMESTER'].unique():\n",
    "        data_temp = (\n",
    "            data_train\n",
    "            .drop('DISC_ID', axis=1)\n",
    "            [(data_train['ST_YEAR'] <= st_year) & (data_train['SEMESTER'] <= semester)]\n",
    "            .groupby(['ISU', 'TYPE_NAME'], as_index=False)\n",
    "            .agg(DEBT_MEAN=('DEBT', 'mean'), DEBT_SUM=('DEBT', 'sum'), DEBT_COUNT=('DEBT', 'count')\n",
    "            )\n",
    "        )\n",
    "        data_temp['ST_YEAR'] = st_year + 1\n",
    "        data_temp['SEMESTER'] = semester + 1\n",
    "        \n",
    "        all_st_df_test.append(data_temp)\n",
    "        \n",
    "all_disc_df_test = []\n",
    "\n",
    "for st_year in data_train['ST_YEAR'].unique():\n",
    "    for semester in data_train['SEMESTER'].unique():\n",
    "        data_temp = (\n",
    "            data_train\n",
    "            .drop('ISU', axis=1)\n",
    "            [(data_train['ST_YEAR'] <= st_year) & (data_train['SEMESTER'] <= semester)]\n",
    "            .groupby(['DISC_ID', 'TYPE_NAME'], as_index=False)\n",
    "            .agg(DISC_DEBT_MEAN=('DEBT', 'mean'), DISC_DEBT_SUM=('DEBT', 'sum'), DISC_DEBT_COUNT=('DEBT', 'count')\n",
    "            )\n",
    "        )\n",
    "        data_temp['ST_YEAR'] = st_year + 1\n",
    "        data_temp['SEMESTER'] = semester + 1\n",
    "        \n",
    "        all_disc_df_test.append(data_temp)\n",
    "        \n",
    "        \n",
    "all_st_df_test = pd.concat(all_st_df_test)\n",
    "all_disc_df_test = pd.concat(all_disc_df_test)"
   ]
  },
  {
   "cell_type": "code",
   "execution_count": 62,
   "id": "07d0ab3b",
   "metadata": {},
   "outputs": [],
   "source": [
    "data_test = data_test.merge(all_st_df_test, on=['ISU', 'SEMESTER', 'ST_YEAR', 'TYPE_NAME'], how='left')\n",
    "data_test = data_test.merge(all_disc_df_test, on=['DISC_ID', 'SEMESTER', 'ST_YEAR', 'TYPE_NAME'], how='left')"
   ]
  },
  {
   "cell_type": "code",
   "execution_count": 63,
   "id": "33df1094",
   "metadata": {},
   "outputs": [],
   "source": [
    "data_test = data_test.fillna(0)"
   ]
  },
  {
   "cell_type": "code",
   "execution_count": 64,
   "id": "25f33537",
   "metadata": {},
   "outputs": [],
   "source": [
    "data_test = data_test.join(pd.get_dummies(data_test['TYPE_NAME'], prefix='TYPE_NAME'))"
   ]
  },
  {
   "cell_type": "code",
   "execution_count": 65,
   "id": "4331f90d-e5d0-4e07-b3a2-4aee3d0f7ffa",
   "metadata": {},
   "outputs": [],
   "source": [
    "cols_to_drop_test = ['ISU', 'DISC_ID', 'TYPE_NAME']"
   ]
  },
  {
   "cell_type": "code",
   "execution_count": 66,
   "id": "76ebfaf4",
   "metadata": {},
   "outputs": [],
   "source": [
    "test_features = data_test.drop(cols_to_drop_test, axis=1)"
   ]
  },
  {
   "cell_type": "code",
   "execution_count": 67,
   "id": "9756b974",
   "metadata": {},
   "outputs": [],
   "source": [
    "final_preds = model.predict(test_features)"
   ]
  },
  {
   "cell_type": "code",
   "execution_count": 68,
   "id": "b0dbc095",
   "metadata": {},
   "outputs": [],
   "source": [
    "data_test['DEBT'] = final_preds"
   ]
  },
  {
   "cell_type": "code",
   "execution_count": 69,
   "id": "8a93ae7f-f866-4652-9f26-4d1ebc159e71",
   "metadata": {},
   "outputs": [],
   "source": [
    "data_test['ID'] = data_test[['ISU', 'ST_YEAR', 'DISC_ID', 'SEMESTER', 'TYPE_NAME']].apply(\n",
    "        lambda x: f'ISU:{x[0]} | ST_YEAR:{x[1]} | DISC_ID:{x[2]} | SEMESTER:{x[3]} | TYPE_NAME:{x[4]}', axis =1)"
   ]
  },
  {
   "cell_type": "code",
   "execution_count": 70,
   "id": "510970a9",
   "metadata": {},
   "outputs": [],
   "source": [
    "res = data_test[['ID', 'DEBT']]"
   ]
  },
  {
   "cell_type": "code",
   "execution_count": 71,
   "id": "d77917d4",
   "metadata": {},
   "outputs": [],
   "source": [
    "res.to_csv('baseline_submit.csv', index=False)"
   ]
  },
  {
   "cell_type": "code",
   "execution_count": null,
   "id": "560f49f3",
   "metadata": {},
   "outputs": [],
   "source": []
  }
 ],
 "metadata": {
  "kernelspec": {
   "display_name": "Python 3 (ipykernel)",
   "language": "python",
   "name": "python3"
  },
  "language_info": {
   "codemirror_mode": {
    "name": "ipython",
    "version": 3
   },
   "file_extension": ".py",
   "mimetype": "text/x-python",
   "name": "python",
   "nbconvert_exporter": "python",
   "pygments_lexer": "ipython3",
   "version": "3.9.12"
  }
 },
 "nbformat": 4,
 "nbformat_minor": 5
}
